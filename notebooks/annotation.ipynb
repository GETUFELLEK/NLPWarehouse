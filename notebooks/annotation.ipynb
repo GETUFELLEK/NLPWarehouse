{
 "cells": [
  {
   "cell_type": "code",
   "execution_count": 7,
   "id": "1c3d8c06-e058-4cb0-8ee0-264d6f75c603",
   "metadata": {},
   "outputs": [],
   "source": [
    "import pandas as pd\n",
    "import json\n",
    "\n",
    "# Load preprocessed dataset\n",
    "data = pd.read_csv('/home/daisy/Desktop/tenx/datascraping/NLPWarehouse/data/preprocessed_data/cleaned_data.csv')\n",
    "\n",
    "# Subset the data\n",
    "subset_data = data.sample(n=20, random_state=42)\n",
    "\n",
    "subset_data_dict = subset_data.to_dict(orient='records')\n",
    "\n",
    "# Save the subset to a JSON file\n",
    "with open('subset.json', 'w') as json_file:\n",
    "    json.dump(subset_data_dict, json_file)\n",
    "\n"
   ]
  },
  {
   "cell_type": "code",
   "execution_count": null,
   "id": "c22ca045-9b2c-4475-9acc-ed14b0d3f1de",
   "metadata": {},
   "outputs": [],
   "source": []
  }
 ],
 "metadata": {
  "kernelspec": {
   "display_name": "env2",
   "language": "python",
   "name": "python3"
  },
  "language_info": {
   "codemirror_mode": {
    "name": "ipython",
    "version": 3
   },
   "file_extension": ".py",
   "mimetype": "text/x-python",
   "name": "python",
   "nbconvert_exporter": "python",
   "pygments_lexer": "ipython3",
   "version": "3.10.12"
  }
 },
 "nbformat": 4,
 "nbformat_minor": 5
}
