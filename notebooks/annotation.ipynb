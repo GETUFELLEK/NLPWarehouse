{
 "cells": [
  {
   "cell_type": "code",
   "execution_count": 2,
   "id": "1c3d8c06-e058-4cb0-8ee0-264d6f75c603",
   "metadata": {},
   "outputs": [],
   "source": [
    "import pandas as pd\n",
    "\n",
    "# Load preprocessed dataset\n",
    "data = pd.read_csv('cleaned_data.csv')\n",
    "\n",
    "# Subset the data (randomly select 20 articles)\n",
    "subset_data = data.sample(n=100, random_state=42)\n",
    "\n",
    "# Save the subset to a CSV file\n",
    "subset_data.to_csv('subset2.csv', index=False)\n"
   ]
  },
  {
   "cell_type": "code",
   "execution_count": null,
   "id": "c22ca045-9b2c-4475-9acc-ed14b0d3f1de",
   "metadata": {},
   "outputs": [],
   "source": []
  }
 ],
 "metadata": {
  "kernelspec": {
   "display_name": "Python (myenv)",
   "language": "python",
   "name": "myenv"
  },
  "language_info": {
   "codemirror_mode": {
    "name": "ipython",
    "version": 3
   },
   "file_extension": ".py",
   "mimetype": "text/x-python",
   "name": "python",
   "nbconvert_exporter": "python",
   "pygments_lexer": "ipython3",
   "version": "3.8.10"
  }
 },
 "nbformat": 4,
 "nbformat_minor": 5
}
