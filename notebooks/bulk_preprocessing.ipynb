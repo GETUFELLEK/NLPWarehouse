{
 "cells": [
  {
   "cell_type": "code",
   "execution_count": 1,
   "id": "74450912-4379-430d-a4d5-fe276d7eb059",
   "metadata": {},
   "outputs": [
    {
     "name": "stderr",
     "output_type": "stream",
     "text": [
      "/home/daisy_cherono/myenv/lib/python3.8/site-packages/tqdm/auto.py:21: TqdmWarning: IProgress not found. Please update jupyter and ipywidgets. See https://ipywidgets.readthedocs.io/en/stable/user_install.html\n",
      "  from .autonotebook import tqdm as notebook_tqdm\n"
     ]
    }
   ],
   "source": [
    "from datasets import load_dataset\n",
    "import pandas as pd\n",
    "import re\n",
    "from bs4 import BeautifulSoup\n",
    "from langdetect import detect\n"
   ]
  },
  {
   "cell_type": "code",
   "execution_count": 2,
   "id": "88c5fca9-5997-4836-b479-dd1ab5610a6a",
   "metadata": {},
   "outputs": [],
   "source": [
    "dataset = load_dataset(\"derekiya/swahili_news\")"
   ]
  },
  {
   "cell_type": "code",
   "execution_count": 3,
   "id": "cc48d245-d513-4295-a8b7-5cb09208dc22",
   "metadata": {},
   "outputs": [
    {
     "name": "stdout",
     "output_type": "stream",
     "text": [
      "Dataset({\n",
      "    features: ['text', 'label'],\n",
      "    num_rows: 24210\n",
      "})\n"
     ]
    }
   ],
   "source": [
    "print(dataset['train'])"
   ]
  },
  {
   "cell_type": "code",
   "execution_count": 4,
   "id": "b5dc0bb0-1172-40b0-bbb9-990fa9ffd83a",
   "metadata": {},
   "outputs": [
    {
     "name": "stdout",
     "output_type": "stream",
     "text": [
      "Dataset({\n",
      "    features: ['text', 'label'],\n",
      "    num_rows: 7338\n",
      "})\n"
     ]
    }
   ],
   "source": [
    "print(dataset['test'])"
   ]
  },
  {
   "cell_type": "code",
   "execution_count": 5,
   "id": "1018e405-b556-408c-b55a-f289fe0d61d7",
   "metadata": {},
   "outputs": [],
   "source": [
    "df_train = pd.DataFrame(dataset['train'])"
   ]
  },
  {
   "cell_type": "code",
   "execution_count": 11,
   "id": "3493214c-8a77-49c6-8e70-6fe3f5825d4c",
   "metadata": {},
   "outputs": [],
   "source": [
    "df_test = pd.DataFrame(dataset['test'])"
   ]
  },
  {
   "cell_type": "code",
   "execution_count": 41,
   "id": "04ac66aa-97d4-48bb-95ca-c7c651c93c33",
   "metadata": {},
   "outputs": [
    {
     "name": "stdout",
     "output_type": "stream",
     "text": [
      "                                                    text  label\n",
      "24205   Alitoa pongezi hizo alipozindua rasmi hatua y...      0\n",
      "24206   Na NORA DAMIAN-DAR ES SALAAM  TEKLA (si jina ...      1\n",
      "24207   Mkuu wa Mkoa wa Njombe, Dk Rehema Nchimbi wak...      0\n",
      "24208   MABINGWA wa Ligi Kuu Soka Tanzania Bara, Simb...      2\n",
      "24209   WIKI iliyopita, nilianza makala haya yanayole...      1\n"
     ]
    }
   ],
   "source": [
    "print(df_train.tail())"
   ]
  },
  {
   "cell_type": "code",
   "execution_count": 42,
   "id": "413f2920-8f6e-4eb9-99bf-ed2157d5bea7",
   "metadata": {},
   "outputs": [
    {
     "name": "stdout",
     "output_type": "stream",
     "text": [
      "                                                   text  label\n",
      "7333   Kamati hiyo ilibainisha kuwa moja ya mapunguf...      0\n",
      "7334  ARODIA PETER-DODOMA HOSPITALI ya Rufaa ya Benj...      1\n",
      "7335   WAKATI mazoezi ya timu ya taifa ya Tanzania (...      2\n",
      "7336  \\n\\tNa Suleiman Rashid Omar-Pemba\\n \\n\\n \\n\\tW...      1\n",
      "7337   BAO pekee lililofungwa na mshambuliaji wa Yan...      2\n"
     ]
    }
   ],
   "source": [
    "print(df_test.tail())"
   ]
  },
  {
   "cell_type": "code",
   "execution_count": 13,
   "id": "8cb46326-2e71-43a7-81b3-59e46cf6d910",
   "metadata": {},
   "outputs": [],
   "source": [
    "#def normalize_text(text):\n",
    "   # return text.lower()\n",
    "\n",
    "def remove_punctuation_and_normalize_whitespace(text):\n",
    "    text = re.sub(r'[^\\w\\s]', '', text)\n",
    "    text = re.sub(r'\\s+', ' ', text).strip()\n",
    "    return text\n",
    "\n",
    "def remove_html_tags_and_special_characters(text):\n",
    "    soup = BeautifulSoup(text, \"html.parser\")\n",
    "    text = soup.get_text()\n",
    "    text = re.sub(r'[^A-Za-z0-9\\s]', '', text)\n",
    "    return text\n",
    "\n",
    "def is_swahili(text):\n",
    "    try:\n",
    "        return detect(text) == 'sw'\n",
    "    except:\n",
    "        return False\n",
    "\n",
    "def preprocess_text(text):\n",
    "    #text = normalize_text(text)\n",
    "    text = str(text)\n",
    "    text = remove_punctuation_and_normalize_whitespace(text)\n",
    "    text = remove_html_tags_and_special_characters(text)\n",
    "    return text\n"
   ]
  },
  {
   "cell_type": "code",
   "execution_count": 32,
   "id": "5af792e4-13c4-44ea-b8b4-ca0eee77011d",
   "metadata": {},
   "outputs": [],
   "source": [
    "cleaned_texts = []\n",
    "labels = []\n",
    "\n",
    "for text, label in zip(df_train['text'], df_train['label']):\n",
    "    cleaned_text = preprocess_text(text)\n",
    "    \n",
    "    if is_swahili(cleaned_text):\n",
    "        cleaned_texts.append(cleaned_text)\n",
    "        labels.append(label)"
   ]
  },
  {
   "cell_type": "code",
   "execution_count": 33,
   "id": "fe877665-b8c9-4043-b8c6-9c53f2f1a4ba",
   "metadata": {},
   "outputs": [],
   "source": [
    "cleaned_train = pd.DataFrame({'text': cleaned_texts, 'label': labels})"
   ]
  },
  {
   "cell_type": "code",
   "execution_count": 40,
   "id": "f9d48a8d-6956-42f0-8137-5f71d0b6e823",
   "metadata": {},
   "outputs": [
    {
     "name": "stdout",
     "output_type": "stream",
     "text": [
      "                                                    text  label\n",
      "24170  Alitoa pongezi hizo alipozindua rasmi hatua ya...      0\n",
      "24171  Na NORA DAMIANDAR ES SALAAM TEKLA si jina lake...      1\n",
      "24172  Mkuu wa Mkoa wa Njombe Dk Rehema Nchimbi wakat...      0\n",
      "24173  MABINGWA wa Ligi Kuu Soka Tanzania Bara Simba ...      2\n",
      "24174  WIKI iliyopita nilianza makala haya yanayoleng...      1\n"
     ]
    }
   ],
   "source": [
    "print(cleaned_train.tail())"
   ]
  },
  {
   "cell_type": "code",
   "execution_count": 36,
   "id": "b1c2d5b6-49e9-42e2-8833-8059d56d4f3e",
   "metadata": {},
   "outputs": [],
   "source": [
    "cleaned_text_test = []\n",
    "labels_test = []\n",
    "\n",
    "for text, label in zip(df_test['text'], df_test['label']):\n",
    "    cleaned_text = preprocess_text(text)\n",
    "    \n",
    "    if is_swahili(cleaned_text):\n",
    "        cleaned_text_test.append(cleaned_text)\n",
    "        labels_test.append(label)"
   ]
  },
  {
   "cell_type": "code",
   "execution_count": 37,
   "id": "c684a603-c264-49eb-bdfd-057fcd623ef0",
   "metadata": {},
   "outputs": [],
   "source": [
    "cleaned_test = pd.DataFrame({'text': cleaned_text_test, 'label': labels_test})"
   ]
  },
  {
   "cell_type": "code",
   "execution_count": 38,
   "id": "4ade981f-1c3b-4613-8f71-46e1be88aed6",
   "metadata": {},
   "outputs": [
    {
     "name": "stdout",
     "output_type": "stream",
     "text": [
      "                                                   text  label\n",
      "7330  Kamati hiyo ilibainisha kuwa moja ya mapungufu...      0\n",
      "7331  ARODIA PETERDODOMA HOSPITALI ya Rufaa ya Benja...      1\n",
      "7332  WAKATI mazoezi ya timu ya taifa ya Tanzania Ta...      2\n",
      "7333  Na Suleiman Rashid OmarPemba WIZARA ya Afya na...      1\n",
      "7334  BAO pekee lililofungwa na mshambuliaji wa Yang...      2\n"
     ]
    }
   ],
   "source": [
    "print(cleaned_test.tail())"
   ]
  },
  {
   "cell_type": "code",
   "execution_count": null,
   "id": "d57db36a-73f0-42c9-b0ed-17182905bc44",
   "metadata": {},
   "outputs": [],
   "source": []
  }
 ],
 "metadata": {
  "kernelspec": {
   "display_name": "Python (myenv)",
   "language": "python",
   "name": "myenv"
  },
  "language_info": {
   "codemirror_mode": {
    "name": "ipython",
    "version": 3
   },
   "file_extension": ".py",
   "mimetype": "text/x-python",
   "name": "python",
   "nbconvert_exporter": "python",
   "pygments_lexer": "ipython3",
   "version": "3.8.10"
  }
 },
 "nbformat": 4,
 "nbformat_minor": 5
}
