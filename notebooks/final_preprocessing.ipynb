{
 "cells": [
  {
   "cell_type": "code",
   "execution_count": 23,
   "id": "b3af6e5e-cf58-4305-8689-c1ddaf8aa355",
   "metadata": {},
   "outputs": [],
   "source": [
    "import pandas as pd\n",
    "import re\n",
    "from bs4 import BeautifulSoup\n",
    "from langdetect import detect"
   ]
  },
  {
   "cell_type": "code",
   "execution_count": 10,
   "id": "b2b94f62-b5d7-4158-a3e1-799a429058f2",
   "metadata": {},
   "outputs": [],
   "source": [
    "df=pd.read_csv('cleaned-df.csv')"
   ]
  },
  {
   "cell_type": "code",
   "execution_count": 44,
   "id": "14184197-a9d1-433b-b1e0-918e9fce14a7",
   "metadata": {},
   "outputs": [
    {
     "name": "stdout",
     "output_type": "stream",
     "text": [
      "                                                  Title  \\\n",
      "2177  Mama Amtelekeza Mtoto Wake Mchanga Kanisani, A...   \n",
      "2178  Homa Bay: Wanakijiji Waingia Baridi Baba Kumzi...   \n",
      "2179  Kirinyaga: Shamba Boi Mganda Anayehusishwa na ...   \n",
      "2180  Jamaa Murang'a Ajisalimisha kwa Polisi baada y...   \n",
      "2181  Watoto 7 wa William Ruto, Kazi Wanazofanya na ...   \n",
      "\n",
      "                                                Content  \n",
      "2177  Lucy Chege, mama wa mtoto mmoja, alimwacha bin...  \n",
      "2178  Wanakijiji wa Nyaburu huko Gwasi, Kaunti ya Ho...  \n",
      "2179  Baada ya miezi saba ya kukaa mafichoni, Philli...  \n",
      "2180  Polisi huko Kagumo-ini wanachunguza kisa cha k...  \n",
      "2181  Rais mteule William Ruto ni baba wa watoto sab...  \n"
     ]
    }
   ],
   "source": [
    "print(df.tail())"
   ]
  },
  {
   "cell_type": "code",
   "execution_count": 16,
   "id": "67fd0b9e-2bd6-45ae-8b5e-3694f60fbdd4",
   "metadata": {},
   "outputs": [],
   "source": [
    "# Read raw data from CSV\n",
    "titles = df['Title'].tolist()\n",
    "content = df['Content'].tolist()"
   ]
  },
  {
   "cell_type": "code",
   "execution_count": 45,
   "id": "5f2c0490-d941-4b0b-895a-a326e467c377",
   "metadata": {},
   "outputs": [],
   "source": [
    "# Define preprocessing functions\n",
    "def normalize_text(text):\n",
    "    return text.lower()\n",
    "\n",
    "def remove_punctuation_and_normalize_whitespace(text):\n",
    "    text = re.sub(r'[^\\w\\s]', '', text)\n",
    "    text = re.sub(r'\\s+', ' ', text).strip()\n",
    "    return text\n",
    "\n",
    "def remove_html_tags_and_special_characters(text):\n",
    "    soup = BeautifulSoup(text, \"html.parser\")\n",
    "    text = soup.get_text()\n",
    "    text = re.sub(r'[^A-Za-z0-9\\s]', '', text)\n",
    "    return text\n",
    "\n",
    "def is_swahili(text):\n",
    "    try:\n",
    "        return detect(text) == 'sw'\n",
    "    except:\n",
    "        return False\n",
    "\n",
    "def preprocess_text(text):\n",
    "    text = normalize_text(text)\n",
    "    text = remove_punctuation_and_normalize_whitespace(text)\n",
    "    text = remove_html_tags_and_special_characters(text)\n",
    "    return text\n",
    "\n",
    "def tokenize_text(text):\n",
    "    tokens = text.split()\n",
    "    return tokens"
   ]
  },
  {
   "cell_type": "code",
   "execution_count": 46,
   "id": "1adda3f1-695e-4d8c-a5ef-60ccad1b1f98",
   "metadata": {},
   "outputs": [],
   "source": [
    "# Preprocess text data\n",
    "cleaned_titles = []\n",
    "cleaned_contents = []\n",
    "\n",
    "for title, content in zip(df['Title'], df['Content']):\n",
    "    cleaned_title = preprocess_text(title)\n",
    "    cleaned_content = preprocess_text(content)\n",
    "    \n",
    "    if is_swahili(cleaned_title) and is_swahili(cleaned_content):\n",
    "        cleaned_titles.append(tokenize_text(cleaned_title))\n",
    "        cleaned_contents.append(tokenize_text(cleaned_content))"
   ]
  },
  {
   "cell_type": "code",
   "execution_count": 47,
   "id": "710d8438-6590-4ad8-8233-8f45e63ea753",
   "metadata": {},
   "outputs": [],
   "source": [
    "# Store cleaned data in a new DataFrame and save to CSV\n",
    "cleaned_df = pd.DataFrame({'cleaned_title': cleaned_titles, 'cleaned_content': cleaned_contents})\n",
    "cleaned_df.to_csv('cleaned_data.csv', index=False)"
   ]
  },
  {
   "cell_type": "code",
   "execution_count": 48,
   "id": "0164a00b-5dbe-4b98-9111-3d9f80fe4797",
   "metadata": {},
   "outputs": [
    {
     "name": "stdout",
     "output_type": "stream",
     "text": [
      "                                          cleaned_title  \\\n",
      "1825  [mama, amtelekeza, mtoto, wake, mchanga, kanis...   \n",
      "1826  [homa, bay, wanakijiji, waingia, baridi, baba,...   \n",
      "1827  [kirinyaga, shamba, boi, mganda, anayehusishwa...   \n",
      "1828  [jamaa, muranga, ajisalimisha, kwa, polisi, ba...   \n",
      "1829  [watoto, 7, wa, william, ruto, kazi, wanazofan...   \n",
      "\n",
      "                                        cleaned_content  \n",
      "1825  [lucy, chege, mama, wa, mtoto, mmoja, alimwach...  \n",
      "1826  [wanakijiji, wa, nyaburu, huko, gwasi, kaunti,...  \n",
      "1827  [baada, ya, miezi, saba, ya, kukaa, mafichoni,...  \n",
      "1828  [polisi, huko, kagumoini, wanachunguza, kisa, ...  \n",
      "1829  [rais, mteule, william, ruto, ni, baba, wa, wa...  \n"
     ]
    }
   ],
   "source": [
    "print(cleaned_df.tail())"
   ]
  },
  {
   "cell_type": "code",
   "execution_count": null,
   "id": "8c6c2912-fc14-4a5e-a95f-803f835bc509",
   "metadata": {},
   "outputs": [],
   "source": []
  }
 ],
 "metadata": {
  "kernelspec": {
   "display_name": "Python (myenv)",
   "language": "python",
   "name": "myenv"
  },
  "language_info": {
   "codemirror_mode": {
    "name": "ipython",
    "version": 3
   },
   "file_extension": ".py",
   "mimetype": "text/x-python",
   "name": "python",
   "nbconvert_exporter": "python",
   "pygments_lexer": "ipython3",
   "version": "3.8.10"
  }
 },
 "nbformat": 4,
 "nbformat_minor": 5
}
