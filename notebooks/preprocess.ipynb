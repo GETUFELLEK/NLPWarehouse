{
 "cells": [
  {
   "cell_type": "code",
   "execution_count": 1,
   "metadata": {},
   "outputs": [],
   "source": [
    "import pandas as pd\n"
   ]
  },
  {
   "cell_type": "code",
   "execution_count": 2,
   "metadata": {},
   "outputs": [],
   "source": [
    "df_afla = pd.read_csv('../data/bbc/afla/afla.csv')"
   ]
  },
  {
   "cell_type": "code",
   "execution_count": 7,
   "metadata": {},
   "outputs": [
    {
     "data": {
      "text/html": [
       "<div>\n",
       "<style scoped>\n",
       "    .dataframe tbody tr th:only-of-type {\n",
       "        vertical-align: middle;\n",
       "    }\n",
       "\n",
       "    .dataframe tbody tr th {\n",
       "        vertical-align: top;\n",
       "    }\n",
       "\n",
       "    .dataframe thead th {\n",
       "        text-align: right;\n",
       "    }\n",
       "</style>\n",
       "<table border=\"1\" class=\"dataframe\">\n",
       "  <thead>\n",
       "    <tr style=\"text-align: right;\">\n",
       "      <th></th>\n",
       "      <th>Title</th>\n",
       "      <th>Content</th>\n",
       "    </tr>\n",
       "  </thead>\n",
       "  <tbody>\n",
       "    <tr>\n",
       "      <th>0</th>\n",
       "      <td>Plasmolifting: jinsi wanawake walivyoambukizwa...</td>\n",
       "      <td>Chanzo cha picha, Getty Images\\nHabari za hivi...</td>\n",
       "    </tr>\n",
       "    <tr>\n",
       "      <th>1</th>\n",
       "      <td>Je, ni vyakula gani husababisha na kupunguza k...</td>\n",
       "      <td>Chanzo cha picha, Getty Images\\nKiungulia amba...</td>\n",
       "    </tr>\n",
       "    <tr>\n",
       "      <th>2</th>\n",
       "      <td>Daktari alidhani sifanyi mapenzi kwa sababu mi...</td>\n",
       "      <td>Kat Watkins, mwanamke anayetumia kiti cha magu...</td>\n",
       "    </tr>\n",
       "    <tr>\n",
       "      <th>3</th>\n",
       "      <td>Kipi hutokea miilini mwetu tunapoumizwa na map...</td>\n",
       "      <td>Chanzo cha picha, GETTTY IMAGES\\nMaumivu ya mo...</td>\n",
       "    </tr>\n",
       "    <tr>\n",
       "      <th>4</th>\n",
       "      <td>Afya: je, tunakula tu tunapohisi njaa? - bbc n...</td>\n",
       "      <td>Chanzo cha picha, Getty Images\\nOnur Erim\\nBBC...</td>\n",
       "    </tr>\n",
       "  </tbody>\n",
       "</table>\n",
       "</div>"
      ],
      "text/plain": [
       "                                               Title  \\\n",
       "0  Plasmolifting: jinsi wanawake walivyoambukizwa...   \n",
       "1  Je, ni vyakula gani husababisha na kupunguza k...   \n",
       "2  Daktari alidhani sifanyi mapenzi kwa sababu mi...   \n",
       "3  Kipi hutokea miilini mwetu tunapoumizwa na map...   \n",
       "4  Afya: je, tunakula tu tunapohisi njaa? - bbc n...   \n",
       "\n",
       "                                             Content  \n",
       "0  Chanzo cha picha, Getty Images\\nHabari za hivi...  \n",
       "1  Chanzo cha picha, Getty Images\\nKiungulia amba...  \n",
       "2  Kat Watkins, mwanamke anayetumia kiti cha magu...  \n",
       "3  Chanzo cha picha, GETTTY IMAGES\\nMaumivu ya mo...  \n",
       "4  Chanzo cha picha, Getty Images\\nOnur Erim\\nBBC...  "
      ]
     },
     "execution_count": 7,
     "metadata": {},
     "output_type": "execute_result"
    }
   ],
   "source": [
    "df_afla.head()"
   ]
  },
  {
   "cell_type": "code",
   "execution_count": 8,
   "metadata": {},
   "outputs": [
    {
     "name": "stdout",
     "output_type": "stream",
     "text": [
      "930\n"
     ]
    }
   ],
   "source": [
    "print(len(df_afla))"
   ]
  },
  {
   "cell_type": "code",
   "execution_count": 3,
   "metadata": {},
   "outputs": [],
   "source": [
    "df_burudani = pd.read_csv('../data/bbc/burudani/burudani.csv')"
   ]
  },
  {
   "cell_type": "code",
   "execution_count": 10,
   "metadata": {},
   "outputs": [
    {
     "data": {
      "text/html": [
       "<div>\n",
       "<style scoped>\n",
       "    .dataframe tbody tr th:only-of-type {\n",
       "        vertical-align: middle;\n",
       "    }\n",
       "\n",
       "    .dataframe tbody tr th {\n",
       "        vertical-align: top;\n",
       "    }\n",
       "\n",
       "    .dataframe thead th {\n",
       "        text-align: right;\n",
       "    }\n",
       "</style>\n",
       "<table border=\"1\" class=\"dataframe\">\n",
       "  <thead>\n",
       "    <tr style=\"text-align: right;\">\n",
       "      <th></th>\n",
       "      <th>Title</th>\n",
       "      <th>Content</th>\n",
       "    </tr>\n",
       "  </thead>\n",
       "  <tbody>\n",
       "    <tr>\n",
       "      <th>0</th>\n",
       "      <td>Orodha kamili ya washindi na walioteuliwa kwen...</td>\n",
       "      <td>Chanzo cha picha, Getty Images\\nWasanii bora w...</td>\n",
       "    </tr>\n",
       "    <tr>\n",
       "      <th>1</th>\n",
       "      <td>Oscars academy awards: mambo 11 unayohitaji ku...</td>\n",
       "      <td>Chanzo cha picha, Getty Images\\nKumekuwa na ha...</td>\n",
       "    </tr>\n",
       "    <tr>\n",
       "      <th>2</th>\n",
       "      <td>Ma-dj wa kike wa iran wanaotumbuiza na kuvunja...</td>\n",
       "      <td>Ngoma za watu wa jinsia tofauti ni kinyume cha...</td>\n",
       "    </tr>\n",
       "    <tr>\n",
       "      <th>3</th>\n",
       "      <td>Nguvu ya familia ilivyompa  nguvu mr. blue kur...</td>\n",
       "      <td>Mwanamuziki wa kizazi kipya ‘Bongo flava’ Herr...</td>\n",
       "    </tr>\n",
       "    <tr>\n",
       "      <th>4</th>\n",
       "      <td>Bob marley: mambo manne ambayo hukuyajua kumhu...</td>\n",
       "      <td>Chanzo cha picha, Getty Images\\nFilamu mpya, O...</td>\n",
       "    </tr>\n",
       "  </tbody>\n",
       "</table>\n",
       "</div>"
      ],
      "text/plain": [
       "                                               Title  \\\n",
       "0  Orodha kamili ya washindi na walioteuliwa kwen...   \n",
       "1  Oscars academy awards: mambo 11 unayohitaji ku...   \n",
       "2  Ma-dj wa kike wa iran wanaotumbuiza na kuvunja...   \n",
       "3  Nguvu ya familia ilivyompa  nguvu mr. blue kur...   \n",
       "4  Bob marley: mambo manne ambayo hukuyajua kumhu...   \n",
       "\n",
       "                                             Content  \n",
       "0  Chanzo cha picha, Getty Images\\nWasanii bora w...  \n",
       "1  Chanzo cha picha, Getty Images\\nKumekuwa na ha...  \n",
       "2  Ngoma za watu wa jinsia tofauti ni kinyume cha...  \n",
       "3  Mwanamuziki wa kizazi kipya ‘Bongo flava’ Herr...  \n",
       "4  Chanzo cha picha, Getty Images\\nFilamu mpya, O...  "
      ]
     },
     "execution_count": 10,
     "metadata": {},
     "output_type": "execute_result"
    }
   ],
   "source": [
    "df_burudani.head()"
   ]
  },
  {
   "cell_type": "code",
   "execution_count": 11,
   "metadata": {},
   "outputs": [
    {
     "name": "stdout",
     "output_type": "stream",
     "text": [
      "142\n"
     ]
    }
   ],
   "source": [
    "print(len(df_burudani))"
   ]
  },
  {
   "cell_type": "code",
   "execution_count": 4,
   "metadata": {},
   "outputs": [],
   "source": [
    "df_makala = pd.read_csv('../data/bbc/makala/Makala.csv')"
   ]
  },
  {
   "cell_type": "code",
   "execution_count": 14,
   "metadata": {},
   "outputs": [
    {
     "data": {
      "text/html": [
       "<div>\n",
       "<style scoped>\n",
       "    .dataframe tbody tr th:only-of-type {\n",
       "        vertical-align: middle;\n",
       "    }\n",
       "\n",
       "    .dataframe tbody tr th {\n",
       "        vertical-align: top;\n",
       "    }\n",
       "\n",
       "    .dataframe thead th {\n",
       "        text-align: right;\n",
       "    }\n",
       "</style>\n",
       "<table border=\"1\" class=\"dataframe\">\n",
       "  <thead>\n",
       "    <tr style=\"text-align: right;\">\n",
       "      <th></th>\n",
       "      <th>Title</th>\n",
       "      <th>Content</th>\n",
       "    </tr>\n",
       "  </thead>\n",
       "  <tbody>\n",
       "    <tr>\n",
       "      <th>0</th>\n",
       "      <td>Jinsi china inavyoisaidia iran kukabiliana na ...</td>\n",
       "      <td>Chanzo cha picha, ATTA KENARE / AFP via Getty ...</td>\n",
       "    </tr>\n",
       "    <tr>\n",
       "      <th>1</th>\n",
       "      <td>Kwanini wanawake china hujiunga na vikundi vya...</td>\n",
       "      <td>Chanzo cha picha, Handout\\n\"Kila mwaka uishapo...</td>\n",
       "    </tr>\n",
       "    <tr>\n",
       "      <th>2</th>\n",
       "      <td>Mambo matano kuhusu uchumi wa china - bbc news...</td>\n",
       "      <td>Chanzo cha picha, EPA\\nTangu China ilipoanza k...</td>\n",
       "    </tr>\n",
       "    <tr>\n",
       "      <th>3</th>\n",
       "      <td>Yajue masuala saba yaliyomsumbua mzee mwinyi -...</td>\n",
       "      <td>Chanzo cha picha, Getty Images\\nAliyekuwa Rais...</td>\n",
       "    </tr>\n",
       "    <tr>\n",
       "      <th>4</th>\n",
       "      <td>Ukraine: mambo matano yatakayoathiri vita 2024...</td>\n",
       "      <td>Chanzo cha picha, AFP\\nBaada ya kutawala vichw...</td>\n",
       "    </tr>\n",
       "  </tbody>\n",
       "</table>\n",
       "</div>"
      ],
      "text/plain": [
       "                                               Title  \\\n",
       "0  Jinsi china inavyoisaidia iran kukabiliana na ...   \n",
       "1  Kwanini wanawake china hujiunga na vikundi vya...   \n",
       "2  Mambo matano kuhusu uchumi wa china - bbc news...   \n",
       "3  Yajue masuala saba yaliyomsumbua mzee mwinyi -...   \n",
       "4  Ukraine: mambo matano yatakayoathiri vita 2024...   \n",
       "\n",
       "                                             Content  \n",
       "0  Chanzo cha picha, ATTA KENARE / AFP via Getty ...  \n",
       "1  Chanzo cha picha, Handout\\n\"Kila mwaka uishapo...  \n",
       "2  Chanzo cha picha, EPA\\nTangu China ilipoanza k...  \n",
       "3  Chanzo cha picha, Getty Images\\nAliyekuwa Rais...  \n",
       "4  Chanzo cha picha, AFP\\nBaada ya kutawala vichw...  "
      ]
     },
     "execution_count": 14,
     "metadata": {},
     "output_type": "execute_result"
    }
   ],
   "source": [
    "df_makala.head()"
   ]
  },
  {
   "cell_type": "code",
   "execution_count": 16,
   "metadata": {},
   "outputs": [
    {
     "name": "stdout",
     "output_type": "stream",
     "text": [
      "36\n"
     ]
    }
   ],
   "source": [
    "print(len(df_makala))"
   ]
  },
  {
   "cell_type": "code",
   "execution_count": 5,
   "metadata": {},
   "outputs": [],
   "source": [
    "df_michezo = pd.read_csv('../data/bbc/michezo/michezo.csv')"
   ]
  },
  {
   "cell_type": "code",
   "execution_count": 21,
   "metadata": {},
   "outputs": [
    {
     "data": {
      "text/html": [
       "<div>\n",
       "<style scoped>\n",
       "    .dataframe tbody tr th:only-of-type {\n",
       "        vertical-align: middle;\n",
       "    }\n",
       "\n",
       "    .dataframe tbody tr th {\n",
       "        vertical-align: top;\n",
       "    }\n",
       "\n",
       "    .dataframe thead th {\n",
       "        text-align: right;\n",
       "    }\n",
       "</style>\n",
       "<table border=\"1\" class=\"dataframe\">\n",
       "  <thead>\n",
       "    <tr style=\"text-align: right;\">\n",
       "      <th></th>\n",
       "      <th>Title</th>\n",
       "      <th>Content</th>\n",
       "    </tr>\n",
       "  </thead>\n",
       "  <tbody>\n",
       "    <tr>\n",
       "      <th>0</th>\n",
       "      <td>Ligi kuu ya england: mohamed salah miongoni mw...</td>\n",
       "      <td>Chanzo cha picha, Getty Images\\nPazia limeshus...</td>\n",
       "    </tr>\n",
       "    <tr>\n",
       "      <th>1</th>\n",
       "      <td>Tetesi za soka ulaya jumanne 22.05.2024 - bbc ...</td>\n",
       "      <td>Chanzo cha picha, Getty Images\\nManchester Uni...</td>\n",
       "    </tr>\n",
       "    <tr>\n",
       "      <th>2</th>\n",
       "      <td>Tetesi za soka ulaya jumanne 21.05.2024 - bbc ...</td>\n",
       "      <td>Chanzo cha picha, Getty Images\\nMeneja wa Burn...</td>\n",
       "    </tr>\n",
       "    <tr>\n",
       "      <th>3</th>\n",
       "      <td>Tetesi za soka ulaya jumatatu 20.05.2024: sanc...</td>\n",
       "      <td>Chanzo cha picha, Getty Images\\nManchester Uni...</td>\n",
       "    </tr>\n",
       "    <tr>\n",
       "      <th>4</th>\n",
       "      <td>Tetesi za soka ulaya jumapili 19.05.2024:galla...</td>\n",
       "      <td>Chanzo cha picha, Getty Images\\nAston Villa wa...</td>\n",
       "    </tr>\n",
       "  </tbody>\n",
       "</table>\n",
       "</div>"
      ],
      "text/plain": [
       "                                               Title  \\\n",
       "0  Ligi kuu ya england: mohamed salah miongoni mw...   \n",
       "1  Tetesi za soka ulaya jumanne 22.05.2024 - bbc ...   \n",
       "2  Tetesi za soka ulaya jumanne 21.05.2024 - bbc ...   \n",
       "3  Tetesi za soka ulaya jumatatu 20.05.2024: sanc...   \n",
       "4  Tetesi za soka ulaya jumapili 19.05.2024:galla...   \n",
       "\n",
       "                                             Content  \n",
       "0  Chanzo cha picha, Getty Images\\nPazia limeshus...  \n",
       "1  Chanzo cha picha, Getty Images\\nManchester Uni...  \n",
       "2  Chanzo cha picha, Getty Images\\nMeneja wa Burn...  \n",
       "3  Chanzo cha picha, Getty Images\\nManchester Uni...  \n",
       "4  Chanzo cha picha, Getty Images\\nAston Villa wa...  "
      ]
     },
     "execution_count": 21,
     "metadata": {},
     "output_type": "execute_result"
    }
   ],
   "source": [
    "df_michezo.head()"
   ]
  },
  {
   "cell_type": "code",
   "execution_count": 22,
   "metadata": {},
   "outputs": [
    {
     "name": "stdout",
     "output_type": "stream",
     "text": [
      "931\n"
     ]
    }
   ],
   "source": [
    "print(len(df_michezo))"
   ]
  },
  {
   "cell_type": "code",
   "execution_count": 7,
   "metadata": {},
   "outputs": [
    {
     "name": "stdout",
     "output_type": "stream",
     "text": [
      "Datasets merged successfully!\n"
     ]
    }
   ],
   "source": [
    "# Load the CSV files into DataFrames\n",
    "df_michezo = pd.read_csv('../data/bbc/michezo/michezo.csv')\n",
    "df_makala = pd.read_csv('../data/bbc/makala/Makala.csv')\n",
    "df_afla = pd.read_csv('../data/bbc/afla/afla.csv')\n",
    "df_burudani = pd.read_csv('../data/bbc/burudani/burudani.csv')\n",
    "voa_articles = pd.read_csv('../data//voa_articles.csv')\n",
    "tuko_articles = pd.read_csv('../data/tuko_articles.csv')\n",
    "\n",
    "\n",
    "# Concatenate the DataFrames\n",
    "merged_df = pd.concat([df_michezo, df_makala,df_afla,df_burudani,voa_articles,tuko_articles], ignore_index=True)\n",
    "\n",
    "# save the merged DataFrame to a new CSV file\n",
    "merged_df.to_csv('../data/merged_data/merged.csv', index=False)\n",
    "\n",
    "print(\"Datasets merged successfully!\")\n"
   ]
  },
  {
   "cell_type": "code",
   "execution_count": 8,
   "metadata": {},
   "outputs": [
    {
     "name": "stdout",
     "output_type": "stream",
     "text": [
      "2203\n"
     ]
    }
   ],
   "source": [
    "print(len(merged_df))"
   ]
  },
  {
   "cell_type": "code",
   "execution_count": 12,
   "metadata": {},
   "outputs": [
    {
     "name": "stdout",
     "output_type": "stream",
     "text": [
      "                                               Title  \\\n",
      "0  Ligi kuu ya england: mohamed salah miongoni mw...   \n",
      "1  Tetesi za soka ulaya jumanne 22.05.2024 - bbc ...   \n",
      "\n",
      "                                             Content  \n",
      "0  Chanzo cha picha, Getty Images\\nPazia limeshus...  \n",
      "1  Chanzo cha picha, Getty Images\\nManchester Uni...  \n"
     ]
    }
   ],
   "source": [
    "#display the first 2 raws of the dataframe\n",
    "print(merged_df.head(2))"
   ]
  },
  {
   "cell_type": "code",
   "execution_count": 14,
   "metadata": {},
   "outputs": [
    {
     "name": "stdout",
     "output_type": "stream",
     "text": [
      "Title       0\n",
      "Content    21\n",
      "dtype: int64\n"
     ]
    }
   ],
   "source": [
    "# check for missing values\n",
    "missing_values = merged_df.isnull().sum()\n",
    "print(missing_values)"
   ]
  },
  {
   "cell_type": "code",
   "execution_count": 16,
   "metadata": {},
   "outputs": [
    {
     "name": "stdout",
     "output_type": "stream",
     "text": [
      "Initial shape: (2203, 2)\n"
     ]
    }
   ],
   "source": [
    "\n",
    "# Display the initial shape of the DataFrame\n",
    "print(\"Initial shape:\", merged_df.shape)"
   ]
  },
  {
   "cell_type": "code",
   "execution_count": 17,
   "metadata": {},
   "outputs": [],
   "source": [
    "# drop missing values\n",
    "df_cleaned = merged_df.dropna()"
   ]
  },
  {
   "cell_type": "code",
   "execution_count": 18,
   "metadata": {},
   "outputs": [
    {
     "name": "stdout",
     "output_type": "stream",
     "text": [
      "Shape after dropping missing values: (2182, 2)\n"
     ]
    }
   ],
   "source": [
    "# Display the shape of the DataFrame after dropping missing values\n",
    "print(\"Shape after dropping missing values:\", df_cleaned.shape)"
   ]
  },
  {
   "cell_type": "code",
   "execution_count": 19,
   "metadata": {},
   "outputs": [],
   "source": [
    "df_cleaned.to_csv('../data/merged_data/cleaned-df.csv', index = False)"
   ]
  },
  {
   "cell_type": "code",
   "execution_count": 20,
   "metadata": {},
   "outputs": [
    {
     "name": "stdout",
     "output_type": "stream",
     "text": [
      "                                               Title  \\\n",
      "0  Ligi kuu ya england: mohamed salah miongoni mw...   \n",
      "1  Tetesi za soka ulaya jumanne 22.05.2024 - bbc ...   \n",
      "2  Tetesi za soka ulaya jumanne 21.05.2024 - bbc ...   \n",
      "3  Tetesi za soka ulaya jumatatu 20.05.2024: sanc...   \n",
      "4  Tetesi za soka ulaya jumapili 19.05.2024:galla...   \n",
      "\n",
      "                                             Content  \n",
      "0  Chanzo cha picha, Getty Images\\nPazia limeshus...  \n",
      "1  Chanzo cha picha, Getty Images\\nManchester Uni...  \n",
      "2  Chanzo cha picha, Getty Images\\nMeneja wa Burn...  \n",
      "3  Chanzo cha picha, Getty Images\\nManchester Uni...  \n",
      "4  Chanzo cha picha, Getty Images\\nAston Villa wa...  \n"
     ]
    }
   ],
   "source": [
    "# Display the first few rows of the cleaned DataFrame\n",
    "print(df_cleaned.head())"
   ]
  }
 ],
 "metadata": {
  "kernelspec": {
   "display_name": "Python 3",
   "language": "python",
   "name": "python3"
  },
  "language_info": {
   "codemirror_mode": {
    "name": "ipython",
    "version": 3
   },
   "file_extension": ".py",
   "mimetype": "text/x-python",
   "name": "python",
   "nbconvert_exporter": "python",
   "pygments_lexer": "ipython3",
   "version": "3.10.2"
  }
 },
 "nbformat": 4,
 "nbformat_minor": 2
}
